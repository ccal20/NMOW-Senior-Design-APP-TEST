{
 "cells": [
  {
   "cell_type": "code",
   "execution_count": null,
   "metadata": {},
   "outputs": [],
   "source": [
    "# You will probably need to pip install selenium, chromedriver, and possibly other things I forget what I pip installed tbh"
   ]
  },
  {
   "cell_type": "code",
   "execution_count": 6,
   "metadata": {},
   "outputs": [],
   "source": [
    "import requests\n",
    "import pandas as pd\n",
    "from bs4 import BeautifulSoup\n",
    "from selenium import webdriver\n",
    "from selenium.webdriver.common.by import By\n",
    "from selenium.webdriver.chrome.service import Service\n",
    "from selenium.webdriver.support.ui import WebDriverWait\n",
    "from selenium.webdriver.support import expected_conditions as ec\n",
    "from selenium.webdriver.chrome.options import Options\n",
    "import time"
   ]
  },
  {
   "cell_type": "code",
   "execution_count": 7,
   "metadata": {},
   "outputs": [],
   "source": [
    "############### CHANGE HERE ################\n",
    "username = \"fxu73@gatech.edu\"\n",
    "password = \"[hdph98\"\n",
    "############################################\n",
    "\n",
    "\n",
    "loginurl = 'https://eharvest.acfb.org/Login.aspx'\n",
    "homeurl = 'https://eharvest.acfb.org/Default.aspx'\n",
    "invurl = 'https://eharvest.acfb.org/InventoryView.aspx'"
   ]
  },
  {
   "cell_type": "code",
   "execution_count": null,
   "metadata": {},
   "outputs": [
    {
     "name": "stdout",
     "output_type": "stream",
     "text": [
      "Login success! Now on the inventory page.\n"
     ]
    }
   ],
   "source": [
    "# Connecting to chromedriver executable\n",
    "path = \"./chromedriver-win64/chromedriver.exe\"\n",
    "serv = Service(executable_path=path)\n",
    "opt = Options()\n",
    "\n",
    "# Starting selenium\n",
    "driver = webdriver.Chrome(service=serv, options=opt)\n",
    "driver.get(loginurl)\n",
    "\n",
    "try:\n",
    "    WebDriverWait(driver, 3).until(ec.presence_of_element_located((By.ID, 'txtUserName')))\n",
    "\n",
    "    # Entering username\n",
    "    u_input = driver.find_element(By.ID, 'txtUserName')\n",
    "    u_input.clear()\n",
    "    u_input.send_keys(username)\n",
    "\n",
    "    # Putting in password uses javascript bc it is a hidden field using javascript\n",
    "    p_input = driver.find_element(By.ID, 'txtPassword')\n",
    "    driver.execute_script(f\"arguments[0].value='{password}';\", p_input)\n",
    "\n",
    "    # This is how you find & click a button\n",
    "    login_button = driver.find_element(By.ID, 'btnLogin')\n",
    "    login_button.click()\n",
    "\n",
    "    #This is how you wait for the page to change - if it doesn't in 3 seconds it will error out\n",
    "    WebDriverWait(driver, 3).until(ec.url_to_be(homeurl))\n",
    "\n",
    "    #Did a popup for \"Reports Due\" show\n",
    "    popup = WebDriverWait(driver, 3).until(ec.presence_of_element_located((By.XPATH, \"//h6[text()='Reports Due']\")))\n",
    "    if popup:\n",
    "        x_btn = driver.find_element(By.XPATH, \"//span[@class='rwCommandButton rwCloseButton']\")\n",
    "        x_btn.click()\n",
    "        time.sleep(3)\n",
    "    \n",
    "    inv_button = driver.find_element(By.ID, 'mnuMain_btnInventory')\n",
    "    inv_button.click()\n",
    "\n",
    "    WebDriverWait(driver, 3).until(ec.url_to_be(invurl))\n",
    "\n",
    "    html = driver.page_source\n",
    "    soup = BeautifulSoup(html, 'html.parser')\n",
    "    # print(html)\n",
    "    headers = soup.find(\"div\", {\"id\":\"grdData_GridHeader\", \"class\":\"rgHeaderDiv\"}).find(\"thead\").find(\"tr\").find_all(\"th\")\n",
    "    headers = [h.get_text(strip=True) for h in headers]\n",
    "    \n",
    "    row_tags = soup.find(\"div\", {\"id\":\"grdData_GridData\", \"class\":\"rgDataDiv\"}).find(\"tbody\").find_all(\"tr\")\n",
    "\n",
    "    data = []\n",
    "    temp_cat = \"\"\n",
    "    for row in row_tags:\n",
    "        cols = row.find_all('td')\n",
    "        curr = [col.get_text(strip=True) for col in cols]\n",
    "\n",
    "        # Filling in item category column\n",
    "        if curr[0] != \"\":\n",
    "            temp_cat = curr[0]\n",
    "        else:\n",
    "            curr[0] = temp_cat\n",
    "        data.append(curr)\n",
    "    df = pd.DataFrame(data, columns = headers)\n",
    "\n",
    "    print(\"Login success! Now on the inventory page.\")\n",
    "\n",
    "except Exception as e:\n",
    "    print(f\"Error during login: {e}\")\n",
    "finally:\n",
    "    # Closing selenium instance\n",
    "    driver.quit()\n"
   ]
  },
  {
   "cell_type": "code",
   "execution_count": 9,
   "metadata": {},
   "outputs": [
    {
     "data": {
      "text/html": [
       "<div>\n",
       "<style scoped>\n",
       "    .dataframe tbody tr th:only-of-type {\n",
       "        vertical-align: middle;\n",
       "    }\n",
       "\n",
       "    .dataframe tbody tr th {\n",
       "        vertical-align: top;\n",
       "    }\n",
       "\n",
       "    .dataframe thead th {\n",
       "        text-align: right;\n",
       "    }\n",
       "</style>\n",
       "<table border=\"1\" class=\"dataframe\">\n",
       "  <thead>\n",
       "    <tr style=\"text-align: right;\">\n",
       "      <th></th>\n",
       "      <th>Product Category</th>\n",
       "      <th>Item #</th>\n",
       "      <th>Description</th>\n",
       "      <th>Pkg. Info</th>\n",
       "      <th>Storage</th>\n",
       "      <th>Qty Avail</th>\n",
       "      <th>Qty Limit</th>\n",
       "      <th>Qty Min</th>\n",
       "      <th>$</th>\n",
       "      <th>Cs/Pallet</th>\n",
       "      <th>Nutrition</th>\n",
       "    </tr>\n",
       "  </thead>\n",
       "  <tbody>\n",
       "    <tr>\n",
       "      <th>0</th>\n",
       "      <td>Beverages</td>\n",
       "      <td>125083</td>\n",
       "      <td>Liquid Death Mountain Water</td>\n",
       "      <td>24/19.2 fl oz cans</td>\n",
       "      <td>DR</td>\n",
       "      <td>294</td>\n",
       "      <td>0</td>\n",
       "      <td>3.0000</td>\n",
       "      <td>2.48</td>\n",
       "      <td>70</td>\n",
       "      <td></td>\n",
       "    </tr>\n",
       "    <tr>\n",
       "      <th>1</th>\n",
       "      <td>Beverages</td>\n",
       "      <td>127256</td>\n",
       "      <td>Liquid Death Green Tea Agave</td>\n",
       "      <td>Pallet-19.2 oz cans</td>\n",
       "      <td>DR</td>\n",
       "      <td>1</td>\n",
       "      <td>0</td>\n",
       "      <td>0</td>\n",
       "      <td>101.76</td>\n",
       "      <td>50</td>\n",
       "      <td></td>\n",
       "    </tr>\n",
       "    <tr>\n",
       "      <th>2</th>\n",
       "      <td>Beverages</td>\n",
       "      <td>157899</td>\n",
       "      <td>Mango Orange Sparkling Water</td>\n",
       "      <td>Pallet-19.2 oz cans</td>\n",
       "      <td>DR</td>\n",
       "      <td>5</td>\n",
       "      <td>0</td>\n",
       "      <td>1.0000</td>\n",
       "      <td>126.24</td>\n",
       "      <td>1</td>\n",
       "      <td></td>\n",
       "    </tr>\n",
       "    <tr>\n",
       "      <th>3</th>\n",
       "      <td>Beverages</td>\n",
       "      <td>158058</td>\n",
       "      <td>Mountain Dew Baja Blast</td>\n",
       "      <td>Pallet-2 liter bottles</td>\n",
       "      <td>DR</td>\n",
       "      <td>5</td>\n",
       "      <td>2</td>\n",
       "      <td>1.0000</td>\n",
       "      <td>126.40</td>\n",
       "      <td>1</td>\n",
       "      <td></td>\n",
       "    </tr>\n",
       "    <tr>\n",
       "      <th>4</th>\n",
       "      <td>Beverages</td>\n",
       "      <td>205569</td>\n",
       "      <td>Lemon Lime Soda</td>\n",
       "      <td>Pallet-20 oz bottles</td>\n",
       "      <td>DR</td>\n",
       "      <td>3</td>\n",
       "      <td>0</td>\n",
       "      <td>1.0000</td>\n",
       "      <td>164.40</td>\n",
       "      <td>1</td>\n",
       "      <td></td>\n",
       "    </tr>\n",
       "    <tr>\n",
       "      <th>...</th>\n",
       "      <td>...</td>\n",
       "      <td>...</td>\n",
       "      <td>...</td>\n",
       "      <td>...</td>\n",
       "      <td>...</td>\n",
       "      <td>...</td>\n",
       "      <td>...</td>\n",
       "      <td>...</td>\n",
       "      <td>...</td>\n",
       "      <td>...</td>\n",
       "      <td>...</td>\n",
       "    </tr>\n",
       "    <tr>\n",
       "      <th>107</th>\n",
       "      <td>Produce</td>\n",
       "      <td>LF8555</td>\n",
       "      <td>GL LETTUCE,LOOSE</td>\n",
       "      <td>30/24 CT</td>\n",
       "      <td>RE</td>\n",
       "      <td>1</td>\n",
       "      <td>2</td>\n",
       "      <td>0</td>\n",
       "      <td>28.80</td>\n",
       "      <td>1</td>\n",
       "      <td></td>\n",
       "    </tr>\n",
       "    <tr>\n",
       "      <th>108</th>\n",
       "      <td>Protein</td>\n",
       "      <td>CCSK11173</td>\n",
       "      <td>TEFAP- Hazelnuts</td>\n",
       "      <td>24/1lbs</td>\n",
       "      <td>DR</td>\n",
       "      <td>338</td>\n",
       "      <td>12</td>\n",
       "      <td>6.0000</td>\n",
       "      <td>1.92</td>\n",
       "      <td>60</td>\n",
       "      <td></td>\n",
       "    </tr>\n",
       "    <tr>\n",
       "      <th>109</th>\n",
       "      <td>Snacks</td>\n",
       "      <td>524596</td>\n",
       "      <td>GingerBread House Kit</td>\n",
       "      <td>6/27oz</td>\n",
       "      <td>DR</td>\n",
       "      <td>143</td>\n",
       "      <td>0</td>\n",
       "      <td>1.0000</td>\n",
       "      <td>0.00</td>\n",
       "      <td>36</td>\n",
       "      <td></td>\n",
       "    </tr>\n",
       "    <tr>\n",
       "      <th>110</th>\n",
       "      <td>Snacks</td>\n",
       "      <td>826645</td>\n",
       "      <td>Festive Sprinkles Bright</td>\n",
       "      <td>12/7.41 oz packs per cs</td>\n",
       "      <td>DR</td>\n",
       "      <td>2</td>\n",
       "      <td>0</td>\n",
       "      <td>0</td>\n",
       "      <td>0.64</td>\n",
       "      <td>86</td>\n",
       "      <td></td>\n",
       "    </tr>\n",
       "    <tr>\n",
       "      <th>111</th>\n",
       "      <td>Snacks</td>\n",
       "      <td>944575</td>\n",
       "      <td>Penguin Cookie Pallet</td>\n",
       "      <td>30/2.3 oz per cs(Pallet)</td>\n",
       "      <td>FR</td>\n",
       "      <td>3</td>\n",
       "      <td>0</td>\n",
       "      <td>1.0000</td>\n",
       "      <td>88.64</td>\n",
       "      <td>1</td>\n",
       "      <td></td>\n",
       "    </tr>\n",
       "  </tbody>\n",
       "</table>\n",
       "<p>112 rows × 11 columns</p>\n",
       "</div>"
      ],
      "text/plain": [
       "    Product Category     Item #                   Description  \\\n",
       "0          Beverages     125083   Liquid Death Mountain Water   \n",
       "1          Beverages     127256  Liquid Death Green Tea Agave   \n",
       "2          Beverages     157899  Mango Orange Sparkling Water   \n",
       "3          Beverages     158058       Mountain Dew Baja Blast   \n",
       "4          Beverages     205569               Lemon Lime Soda   \n",
       "..               ...        ...                           ...   \n",
       "107          Produce     LF8555              GL LETTUCE,LOOSE   \n",
       "108          Protein  CCSK11173              TEFAP- Hazelnuts   \n",
       "109           Snacks     524596         GingerBread House Kit   \n",
       "110           Snacks     826645      Festive Sprinkles Bright   \n",
       "111           Snacks     944575         Penguin Cookie Pallet   \n",
       "\n",
       "                    Pkg. Info Storage Qty Avail Qty Limit Qty Min       $  \\\n",
       "0          24/19.2 fl oz cans      DR       294         0  3.0000    2.48   \n",
       "1         Pallet-19.2 oz cans      DR         1         0       0  101.76   \n",
       "2         Pallet-19.2 oz cans      DR         5         0  1.0000  126.24   \n",
       "3      Pallet-2 liter bottles      DR         5         2  1.0000  126.40   \n",
       "4        Pallet-20 oz bottles      DR         3         0  1.0000  164.40   \n",
       "..                        ...     ...       ...       ...     ...     ...   \n",
       "107                  30/24 CT      RE         1         2       0   28.80   \n",
       "108                   24/1lbs      DR       338        12  6.0000    1.92   \n",
       "109                    6/27oz      DR       143         0  1.0000    0.00   \n",
       "110   12/7.41 oz packs per cs      DR         2         0       0    0.64   \n",
       "111  30/2.3 oz per cs(Pallet)      FR         3         0  1.0000   88.64   \n",
       "\n",
       "    Cs/Pallet Nutrition  \n",
       "0          70            \n",
       "1          50            \n",
       "2           1            \n",
       "3           1            \n",
       "4           1            \n",
       "..        ...       ...  \n",
       "107         1            \n",
       "108        60            \n",
       "109        36            \n",
       "110        86            \n",
       "111         1            \n",
       "\n",
       "[112 rows x 11 columns]"
      ]
     },
     "execution_count": 9,
     "metadata": {},
     "output_type": "execute_result"
    }
   ],
   "source": [
    "df"
   ]
  },
  {
   "cell_type": "code",
   "execution_count": 10,
   "metadata": {},
   "outputs": [
    {
     "name": "stdout",
     "output_type": "stream",
     "text": [
      "Index(['Product Category', 'Item #', 'Description', 'Pkg. Info', 'Storage',\n",
      "       'Qty Avail', 'Qty Limit', 'Qty Min', '$', 'Cs/Pallet', 'Nutrition'],\n",
      "      dtype='object')\n"
     ]
    }
   ],
   "source": [
    "columns = df.columns\n",
    "print(columns)\n",
    "df['Product Category'] = df['Product Category'].astype(str)\n",
    "df['Item #'] = df['Item #'].astype(str)\n",
    "df['Description']= df['Description'].astype(str)\n",
    "df['Pkg. Info'] = df['Pkg. Info'].astype(str)\n",
    "df['Storage'] = df['Storage'].astype(str)\n",
    "df['Qty Avail'] = df['Qty Avail'].apply(lambda x: x.replace(\",\",\"\")).astype(int)\n",
    "df['Qty Limit'] = df['Qty Limit'].apply(lambda x: x.replace(\",\",\"\")).astype(int)\n",
    "df['Qty Min'] = df['Qty Min'].apply(lambda x: x.replace(\",\",\"\")).astype(float)\n",
    "df['$'] = df['$'].astype(float).apply(lambda x: round(x,2))\n",
    "df['Cs/Pallet'] = df['Cs/Pallet'].apply(lambda x: x.replace(\",\",\"\")).astype(int)\n",
    "df = df.drop('Nutrition', axis=1)\n"
   ]
  },
  {
   "cell_type": "code",
   "execution_count": 11,
   "metadata": {},
   "outputs": [
    {
     "data": {
      "text/plain": [
       "Product Category     object\n",
       "Item #               object\n",
       "Description          object\n",
       "Pkg. Info            object\n",
       "Storage              object\n",
       "Qty Avail             int32\n",
       "Qty Limit             int32\n",
       "Qty Min             float64\n",
       "$                   float64\n",
       "Cs/Pallet             int32\n",
       "dtype: object"
      ]
     },
     "execution_count": 11,
     "metadata": {},
     "output_type": "execute_result"
    }
   ],
   "source": [
    "df.dtypes"
   ]
  },
  {
   "cell_type": "code",
   "execution_count": 12,
   "metadata": {},
   "outputs": [
    {
     "name": "stdout",
     "output_type": "stream",
     "text": [
      "15\n",
      "9\n",
      "30\n",
      "30\n"
     ]
    }
   ],
   "source": [
    "print(max([len(x) for x in df['Product Category']]))\n",
    "print(max([len(x) for x in df['Item #']]))\n",
    "print(max([len(x) for x in df['Description']]))\n",
    "print(max([len(x) for x in df['Pkg. Info']]))\n"
   ]
  },
  {
   "cell_type": "code",
   "execution_count": null,
   "metadata": {},
   "outputs": [],
   "source": [
    "# Next steps: clean df\n",
    "    # remove things jenny doesn't want\n",
    "    # check datatypes\n",
    "    # how will parsing for things go --> recommend certain ones that will be used/are on menu?\n",
    "    # need an old vs new version to be able to tell new vs old apart\n",
    "# set up notification system\n",
    "# can probably put this table in the dashboard"
   ]
  },
  {
   "cell_type": "code",
   "execution_count": null,
   "metadata": {},
   "outputs": [],
   "source": [
    "################################################### DONT TOUCH BELOW #####################################################\n",
    "\n",
    "# Nothing below works, but alot of it is useful research that I will save for myself later."
   ]
  },
  {
   "cell_type": "code",
   "execution_count": null,
   "metadata": {},
   "outputs": [],
   "source": [
    "import argparse\n",
    "from getpass import getpass\n",
    "import mechanicalsoup"
   ]
  },
  {
   "cell_type": "code",
   "execution_count": 33,
   "metadata": {},
   "outputs": [
    {
     "name": "stdout",
     "output_type": "stream",
     "text": [
      "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\n",
      "ezKpHUSsimn1KuRVOimlGUtvDj4HLAxvv0KUHU6EZNV/EUkOVWLAfMqF0jQ8ogOyZWVAlk6YlfNb97FaJWIBv73rlpbrdtXQcps+ekHLDVyV3LAkKxRzMJJIkt+xI54IvUPZwOzw9uA6W5WIM7/fmbZoih0mffY+WmPcNxjamYfCcYeYuEp2RSE2QcgB2Vd8JxxDC/E9TFqJzCsFDzEDXPklK/G86FuKHqwZj9WACRtMYG36DF1qHRX1eQT5BCgi/TqC/tUW5nf+N6s0AIGYyjDaSmsgfAGTV6i/mLBUCiLjM+1mqLZpbA7lpppb3/9LXCAbRttYncJnTtfMsiiGDcPmGe4kWC/fMRs8waM0uzQ=\n",
      "1|#||4|17|pageRedirect||%2fErrorPage.aspx|\n",
      "\n",
      "<!DOCTYPE html PUBLIC \"-//W3C//DTD XHTML 1.0 Transitional//EN\" \"http://www.w3.org/TR/xhtml1/DTD/xhtml1-transitional.dtd\">\n",
      "<html xmlns=\"http://www.w3.org/1999/xhtml\">\n",
      "<head><title>\n",
      "\tACFB - eHarvest Login\n",
      "</title><link href=\"styles/PTChild.css\" rel=\"stylesheet\" />\n",
      "    <style type=\"text/css\">\n",
      "    </style>\n",
      "<link href=\"/Telerik.Web.UI.WebResource.axd?d=PMrIT5dOWaVYIcpFWUE4nKsbqQQ0_xaFbNdTtlTcy77PbaebZaDjuFVxPThkzDg8xBpwJGrYBlXhRQtESW2XZkuPnSev6tmxOektaTA_OxEW6_WBeJVAHPwBndp0DPvx0&amp;t=638528015272927808&amp;compress=1&amp;_TSM_CombinedScripts_=%3b%3bTelerik.Web.UI%2c+Version%3d2021.3.914.45%2c+Culture%3dneutral%2c+PublicKeyToken%3d121fae78165ba3d4%3aen-US%3abd4f5d20-e2f4-41b1-99ef-02ee4a064af0%3a45085116%3a27c5704c%3a505983de%3ad7e35272%3a959c7879%3aba1b8630%3a3e0dfe6c%3bTelerik.Web.UI.Skins%2c+Version%3d2021.3.914.45%2c+Culture%3dneutral%2c+PublicKeyToken%3d121fae78165ba3d4%3aen-US%3abd68d779-31cd-457f-adc8-06e8ac5469a8%3aa7b34603%3ad237931b%3aa4a302e4\" type=\"text/css\" rel=\"style\n",
      "Login failed.\n"
     ]
    }
   ],
   "source": [
    "username = 'fxu73@gatech.edu'\n",
    "password = '[hdph98'\n",
    "\n",
    "loginurl = 'https://eharvest.acfb.org/Login.aspx'\n",
    "homeurl = 'https://eharvest.acfb.org/Default.aspx'\n",
    "\n",
    "session = requests.Session()\n",
    "response = session.get(loginurl)\n",
    "soup = BeautifulSoup(response.content, 'html.parser')\n",
    "\n",
    "# Hidden fields\n",
    "viewstate = soup.find('input',{'name':'__VIEWSTATE'})['value']\n",
    "print(viewstate)\n",
    "eventvalidation = soup.find('input',{'name':'__EVENTVALIDATION'})['value']\n",
    "print(eventvalidation)\n",
    "\n",
    "payload = {\n",
    "    'txtUserName' : username ,\n",
    "    'txtPassword' : password ,\n",
    "    '__VIEWSTATE' : viewstate ,\n",
    "    '__EVENTVALIDATION' : eventvalidation ,\n",
    "    '__EVENTTARGET' : 'btnLogin' ,\n",
    "    '__EVENTARGUMENT' : '',\n",
    "    '__ASYNCPOST' : 'true' ,\n",
    "    'btnLoginPanel|btnLogin' : 'LOG IN'\n",
    "}\n",
    "\n",
    "login_r = session.post(loginurl, data=payload)\n",
    "print(login_r.text[:1000])\n",
    "home_r = session.get(homeurl)\n",
    "print(home_r.text[:1000])\n",
    "\n",
    "if home_r.url == homeurl:\n",
    "    print(\"Login successful!\")\n",
    "else:\n",
    "    print(\"Login failed.\")\n",
    "\n",
    "session.close()"
   ]
  },
  {
   "cell_type": "code",
   "execution_count": null,
   "metadata": {},
   "outputs": [],
   "source": [
    "\n",
    "loginurl = ('https://eharvest.acfb.org/Login.aspx')\n",
    "homeurl = ('https://eharvest.acfb.org/Default.aspx')\n",
    "\n",
    "payload = {\n",
    "    'txtUserName':username\n",
    "    , 'txtPassword':password\n",
    "    # , 'RadScriptManager1':'btnLoginPanel|btnLogin'\n",
    "    # , 'RadStyleSheetManager1_TSSM':';Telerik.Web.UI, Version=2021.3.914.45, Culture=neutral, PublicKeyToken=121fae78165ba3d4:en-US:bd4f5d20-e2f4-41b1-99ef-02ee4a064af0:45085116:27c5704c:505983de:d7e35272:959c7879:ba1b8630:3e0dfe6c;Telerik.Web.UI.Skins, Version=2021.3.914.45, Culture=neutral, PublicKeyToken=121fae78165ba3d4:en-US:bd68d779-31cd-457f-adc8-06e8ac5469a8:a7b34603:d237931b:a4a302e4'\n",
    "    # , 'RadScriptManager1_TSM':';;System.Web.Extensions, Version=4.0.0.0, Culture=neutral, PublicKeyToken=31bf3856ad364e35:en-US:18f1b484-bbc5-4e2e-8ca4-477603537f34:ea597d4b:b25378d2;Telerik.Web.UI:en-US:bd4f5d20-e2f4-41b1-99ef-02ee4a064af0:16e4e7cd:f7645509:22a6274a:ed16cbdc:88144a7a:33715776:b7778d6c:24ee1bba:6d43f6d9:874f8ea2:c128760b:b2e06756:19620875:92fe8ea0:fa31b949:4877f69a:f46195d3:490a9d4e:11e117d7'\n",
    "    # , 'txtUserName_ClientState':'{\"enabled\":true,\"emptyMessage\":\"Enter Email Address/Username\",\"validationText\":\"'+ username +'\",\"valueAsString\":\"'+ username +'\",\"lastSetTextBoxValue\":\"'+ username +'\"}'\n",
    "    # , 'txtPasswordMask':'Enter Password'\n",
    "    # , 'txtPasswordMask_ClientState':'{\"enabled\":true,\"emptyMessage\":\"Enter Password\",\"validationText\":\"\",\"valueAsString\":\"\",\"lastSetTextBoxValue\":\"Enter Password\"}'\n",
    "    # , 'txtPassword_ClientState':'{\"enabled\":true,\"emptyMessage\":\"\",\"validationText\":\"'+ password +'\",\"valueAsString\":\"'+ password +'\",\"lastSetTextBoxValue\":\"'+ password +'\"}'\n",
    "    # , 'btnLogin_ClientState':'{\"text\":\"LOG IN\",\"value\":\"\",\"checked\":false,\"target\":\"\",\"navigateUrl\":\"\",\"commandName\":\"\",\"commandArgument\":\"\",\"autoPostBack\":true,\"selectedToggleStateIndex\":0,\"validationGroup\":null,\"readOnly\":false,\"primary\":false,\"enabled\":true}'\n",
    "    # , 'winForgotPassword$C$txtEmailAddress':''\n",
    "    # , 'winForgotPassword_C_txtEmailAddress_ClientState':'{\"enabled\":true,\"emptyMessage\":\"\",\"validationText\":\"\",\"valueAsString\":\"\",\"lastSetTextBoxValue\":\"\"}'\n",
    "    # , 'winForgotPassword$C$captchaEmail$CaptchaTextBox':''\n",
    "    # , 'winForgotPassword_C_captchaEmail_ClientState':''\n",
    "    # , 'winForgotPassword_C_btnUpdatePassword_ClientState':'{\"text\":\"Reset Password\",\"value\":\"\",\"checked\":false,\"target\":\"\",\"navigateUrl\":\"\",\"commandName\":\"\",\"commandArgument\":\"\",\"autoPostBack\":true,\"selectedToggleStateIndex\":0,\"validationGroup\":null,\"readOnly\":false,\"primary\":false,\"enabled\":true}'\n",
    "    # , 'winForgotPassword_ClientState':''\n",
    "    , '__EVENTTARGET':'btnLogin'\n",
    "    , '__EVENTARGUMENT':''\n",
    "    , '__VIEWSTATE':'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'\n",
    "    , '__VIEWSTATEGENERATOR':'C2EE9ABB'\n",
    "    , '__EVENTVALIDATION':'qoEwJNf8uwUhQeJbd/eqlRacUGGq/+v1OrwT4nsKQo5SG/0wiitKnfb9eNMEbUtSJjOGcervfzV3LryEClVYh4HZdsI40kokmkO1LK5UyweYWbEwX6UwjA1KZYBMbVqqSQAobemWqnDgZIsO5Qo5Rg5jy0silAPImztdX9+W1cKe5EtL2UhW5gOeBYqoDlEVLdwxvI7v1a/iSpovallzS2U5ogcdXp4Q64PxIvHGAWDUYd91xvDySMUqoCyaXZR1VcNCnC+X3jlkKYCCPo38z+wbUndFC0sf8e/zr9OAadfiYFBW04bkKY4RyNXl5aW4KeVO5PAegEvw7HeBdejF89bzDBewKs8b5rai7iuOVP4='\n",
    "    , '__ASYNCPOST':'true'\n",
    "    # , 'RadAJAXControlID':'RadAjaxManager1'\n",
    "}"
   ]
  },
  {
   "cell_type": "code",
   "execution_count": 22,
   "metadata": {},
   "outputs": [
    {
     "name": "stdout",
     "output_type": "stream",
     "text": [
      "1|#||4|17|pageRedirect||%2fErrorPage.aspx|\n"
     ]
    }
   ],
   "source": [
    "r = requests.post(loginurl, data=payload)\n",
    "\n",
    "print(r.text)"
   ]
  },
  {
   "cell_type": "code",
   "execution_count": null,
   "metadata": {},
   "outputs": [
    {
     "data": {
      "text/plain": [
       "<Response [200]>"
      ]
     },
     "execution_count": 13,
     "metadata": {},
     "output_type": "execute_result"
    }
   ],
   "source": [
    "browser = mechanicalsoup.StatefulBrowser()\n",
    "browser.open()\n",
    "# print(browser.get_url())\n",
    "browser.select_form('form[action=\"./Login.aspx\"]')\n",
    "browser[\"\"]"
   ]
  },
  {
   "cell_type": "code",
   "execution_count": null,
   "metadata": {},
   "outputs": [
    {
     "data": {
      "text/plain": [
       "_StoreAction(option_strings=[], dest='Email Address/Username*', nargs=None, const=None, default=None, type=None, choices=None, required=True, help=None, metavar=None)"
      ]
     },
     "execution_count": 9,
     "metadata": {},
     "output_type": "execute_result"
    }
   ],
   "source": [
    "parser = argparse.ArgumentParser(description=\"Login to ACFB\")\n",
    "parser.add_argument(\"Email Address/Username*\")"
   ]
  },
  {
   "cell_type": "code",
   "execution_count": 8,
   "metadata": {},
   "outputs": [
    {
     "name": "stderr",
     "output_type": "stream",
     "text": [
      "usage: ipykernel_launcher.py [-h] username\n",
      "ipykernel_launcher.py: error: the following arguments are required: username\n"
     ]
    },
    {
     "ename": "SystemExit",
     "evalue": "2",
     "output_type": "error",
     "traceback": [
      "An exception has occurred, use %tb to see the full traceback.\n",
      "\u001b[1;31mSystemExit\u001b[0m\u001b[1;31m:\u001b[0m 2\n"
     ]
    }
   ],
   "source": [
    "args = parser.parse_args()"
   ]
  },
  {
   "cell_type": "code",
   "execution_count": 45,
   "metadata": {},
   "outputs": [
    {
     "ename": "TypeError",
     "evalue": "'NoneType' object is not subscriptable",
     "output_type": "error",
     "traceback": [
      "\u001b[1;31m---------------------------------------------------------------------------\u001b[0m",
      "\u001b[1;31mTypeError\u001b[0m                                 Traceback (most recent call last)",
      "Cell \u001b[1;32mIn[45], line 1\u001b[0m\n\u001b[1;32m----> 1\u001b[0m csrf_token \u001b[38;5;241m=\u001b[39m soup\u001b[38;5;241m.\u001b[39mfind(\u001b[38;5;124m'\u001b[39m\u001b[38;5;124minput\u001b[39m\u001b[38;5;124m'\u001b[39m,{\u001b[38;5;124m'\u001b[39m\u001b[38;5;124mname\u001b[39m\u001b[38;5;124m'\u001b[39m:\u001b[38;5;124m'\u001b[39m\u001b[38;5;124mcsrf_token\u001b[39m\u001b[38;5;124m'\u001b[39m})[\u001b[38;5;124m'\u001b[39m\u001b[38;5;124mvalue\u001b[39m\u001b[38;5;124m'\u001b[39m]\n",
      "\u001b[1;31mTypeError\u001b[0m: 'NoneType' object is not subscriptable"
     ]
    }
   ],
   "source": [
    "csrf_token = soup.find('input',{'name':'csrf_token'})['value']"
   ]
  },
  {
   "cell_type": "code",
   "execution_count": 2,
   "metadata": {},
   "outputs": [],
   "source": [
    "\n",
    "\n",
    "cookies = {\n",
    "    '_hjSessionUser_2020664': 'eyJpZCI6IjVkMjY0MTA5LTc5M2QtNTMxNC05MzNjLTA1Y2Q2NTU5ZWZkMiIsImNyZWF0ZWQiOjE3MzE0NjA5NDY2MTcsImV4aXN0aW5nIjp0cnVlfQ==',\n",
    "    'ASP.NET_SessionId': 'zx4ogmkcn3aou4yts2pgwzkx',\n",
    "}\n",
    "\n",
    "headers = {\n",
    "    'authority': 'eharvest.acfb.org',\n",
    "    'accept': 'text/html,application/xhtml+xml,application/xml;q=0.9,image/avif,image/webp,image/apng,*/*;q=0.8,application/signed-exchange;v=b3;q=0.7',\n",
    "    'accept-language': 'en-US,en;q=0.9',\n",
    "    # 'cookie': '_hjSessionUser_2020664=eyJpZCI6IjVkMjY0MTA5LTc5M2QtNTMxNC05MzNjLTA1Y2Q2NTU5ZWZkMiIsImNyZWF0ZWQiOjE3MzE0NjA5NDY2MTcsImV4aXN0aW5nIjp0cnVlfQ==; ASP.NET_SessionId=zx4ogmkcn3aou4yts2pgwzkx',\n",
    "    'referer': 'https://eharvest.acfb.org/Order.aspx?o=372373',\n",
    "    'sec-ch-ua': '\"Chromium\";v=\"122\", \"Not(A:Brand\";v=\"24\", \"Google Chrome\";v=\"122\"',\n",
    "    'sec-ch-ua-mobile': '?0',\n",
    "    'sec-ch-ua-platform': '\"Windows\"',\n",
    "    'sec-fetch-dest': 'document',\n",
    "    'sec-fetch-mode': 'navigate',\n",
    "    'sec-fetch-site': 'same-origin',\n",
    "    'sec-fetch-user': '?1',\n",
    "    'upgrade-insecure-requests': '1',\n",
    "    'user-agent': 'Mozilla/5.0 (Windows NT 10.0; Win64; x64) AppleWebKit/537.36 (KHTML, like Gecko) Chrome/122.0.0.0 Safari/537.36',\n",
    "}\n",
    "\n",
    "url = 'https://eharvest.acfb.org/InventoryView.aspx'\n",
    "\n",
    "r = requests.get(url, cookies=cookies, headers=headers)"
   ]
  }
 ],
 "metadata": {
  "kernelspec": {
   "display_name": "base",
   "language": "python",
   "name": "python3"
  },
  "language_info": {
   "codemirror_mode": {
    "name": "ipython",
    "version": 3
   },
   "file_extension": ".py",
   "mimetype": "text/x-python",
   "name": "python",
   "nbconvert_exporter": "python",
   "pygments_lexer": "ipython3",
   "version": "3.11.11"
  }
 },
 "nbformat": 4,
 "nbformat_minor": 2
}
